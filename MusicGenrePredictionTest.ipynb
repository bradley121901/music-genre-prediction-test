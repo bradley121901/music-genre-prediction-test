{
 "cells": [
  {
   "cell_type": "code",
   "execution_count": 61,
   "id": "bf9bff1f",
   "metadata": {},
   "outputs": [],
   "source": [
    "import pandas as pd\n",
    "from sklearn.tree import DecisionTreeClassifier\n",
    "from sklearn import tree\n",
    "from sklearn.model_selection import train_test_split\n",
    "from sklearn.metrics import accuracy_score\n",
    "import joblib\n",
    "\n",
    "# reading dataset\n",
    "music_data = pd.read_csv('music.csv')\n",
    "# input data are all columns without genre\n",
    "X = music_data.drop(columns=['genre'])\n",
    "# actual output data is genre column\n",
    "y = music_data['genre']\n",
    "\n",
    "# create a model using decision tree algorithmn \n",
    "model = DecisionTreeClassifier()\n",
    "model.fit(X, y)\n",
    "# visualizing a decision tree\n",
    "tree.export_graphviz(model, out_file='music-recommender.dot', feature_names=['age', 'gender'], class_names=sorted(y.unique()),label='all', rounded=True, filled=True)\n",
    "\n",
    "# measuring accuracy in model in its predictions\n",
    "# splits data for 80% training, 20% for testing\n",
    "X_train, X_test, y_train, y_test = train_test_split(X, y, test_size = 0.2) \n",
    "modelAccuracy = DecisionTreeClassifier()\n",
    "modelAccuracy.fit(X_train, y_train)\n",
    "predictions = model.predict(X_test)\n",
    "score = accuracy_score(y_test, predictions)\n",
    "\n",
    "# persisting model (storing and loading model)\n",
    "# joblib.dump(model, 'music-recommender.joblib')\n",
    "# model = joblib.load('music-recommender.joblib')\n",
    "# predictions = model.predict([[21, 1]])\n",
    "# predictions\n"
   ]
  },
  {
   "cell_type": "code",
   "execution_count": null,
   "id": "d9f13387",
   "metadata": {},
   "outputs": [],
   "source": []
  }
 ],
 "metadata": {
  "kernelspec": {
   "display_name": "Python 3 (ipykernel)",
   "language": "python",
   "name": "python3"
  },
  "language_info": {
   "codemirror_mode": {
    "name": "ipython",
    "version": 3
   },
   "file_extension": ".py",
   "mimetype": "text/x-python",
   "name": "python",
   "nbconvert_exporter": "python",
   "pygments_lexer": "ipython3",
   "version": "3.9.12"
  }
 },
 "nbformat": 4,
 "nbformat_minor": 5
}
